{
 "cells": [
  {
   "cell_type": "code",
   "execution_count": 1,
   "id": "3bca82ab",
   "metadata": {
    "_cell_guid": "b1076dfc-b9ad-4769-8c92-a6c4dae69d19",
    "_uuid": "8f2839f25d086af736a60e9eeb907d3b93b6e0e5",
    "execution": {
     "iopub.execute_input": "2025-03-21T18:21:27.637839Z",
     "iopub.status.busy": "2025-03-21T18:21:27.637516Z",
     "iopub.status.idle": "2025-03-21T18:21:43.092891Z",
     "shell.execute_reply": "2025-03-21T18:21:43.091827Z"
    },
    "papermill": {
     "duration": 15.460322,
     "end_time": "2025-03-21T18:21:43.094663",
     "exception": false,
     "start_time": "2025-03-21T18:21:27.634341",
     "status": "completed"
    },
    "tags": []
   },
   "outputs": [],
   "source": [
    "# Import libraries\n",
    "import pandas as pd\n",
    "import numpy as np\n",
    "import tensorflow as tf\n",
    "from sklearn.model_selection import train_test_split\n",
    "from sklearn.preprocessing import StandardScaler, LabelEncoder\n",
    "from tensorflow.keras.models import Sequential\n",
    "from tensorflow.keras.layers import Dense, Dropout\n",
    "from tensorflow.keras.callbacks import EarlyStopping\n",
    "\n"
   ]
  },
  {
   "cell_type": "code",
   "execution_count": 2,
   "id": "9167c5fb",
   "metadata": {
    "execution": {
     "iopub.execute_input": "2025-03-21T18:21:43.099566Z",
     "iopub.status.busy": "2025-03-21T18:21:43.099002Z",
     "iopub.status.idle": "2025-03-21T18:21:44.155438Z",
     "shell.execute_reply": "2025-03-21T18:21:44.154348Z"
    },
    "papermill": {
     "duration": 1.06012,
     "end_time": "2025-03-21T18:21:44.156926",
     "exception": false,
     "start_time": "2025-03-21T18:21:43.096806",
     "status": "completed"
    },
    "tags": []
   },
   "outputs": [
    {
     "name": "stdout",
     "output_type": "stream",
     "text": [
      "Num GPUs Available: 2\n"
     ]
    }
   ],
   "source": [
    "\n",
    "# Check available GPUs\n",
    "print(\"Num GPUs Available:\", len(tf.config.list_physical_devices('GPU')))\n",
    "\n",
    "# Enable multi-GPU training\n",
    "strategy = tf.distribute.MirroredStrategy()\n",
    "\n"
   ]
  },
  {
   "cell_type": "code",
   "execution_count": 3,
   "id": "69895554",
   "metadata": {
    "execution": {
     "iopub.execute_input": "2025-03-21T18:21:44.161446Z",
     "iopub.status.busy": "2025-03-21T18:21:44.161123Z",
     "iopub.status.idle": "2025-03-21T18:22:27.362795Z",
     "shell.execute_reply": "2025-03-21T18:22:27.361823Z"
    },
    "papermill": {
     "duration": 43.205509,
     "end_time": "2025-03-21T18:22:27.364251",
     "exception": false,
     "start_time": "2025-03-21T18:21:44.158742",
     "status": "completed"
    },
    "tags": []
   },
   "outputs": [
    {
     "name": "stderr",
     "output_type": "stream",
     "text": [
      "/usr/local/lib/python3.10/dist-packages/keras/src/layers/core/dense.py:87: UserWarning: Do not pass an `input_shape`/`input_dim` argument to a layer. When using Sequential models, prefer using an `Input(shape)` object as the first layer in the model instead.\n",
      "  super().__init__(activity_regularizer=activity_regularizer, **kwargs)\n",
      "/usr/local/lib/python3.10/dist-packages/keras/src/layers/activations/leaky_relu.py:41: UserWarning: Argument `alpha` is deprecated. Use `negative_slope` instead.\n",
      "  warnings.warn(\n"
     ]
    },
    {
     "name": "stdout",
     "output_type": "stream",
     "text": [
      "Epoch 1/100\n",
      "\u001b[1m200/200\u001b[0m \u001b[32m━━━━━━━━━━━━━━━━━━━━\u001b[0m\u001b[37m\u001b[0m \u001b[1m8s\u001b[0m 10ms/step - accuracy: 0.7086 - loss: 0.5643 - val_accuracy: 0.8300 - val_loss: 0.4066\n",
      "Epoch 2/100\n",
      "\u001b[1m200/200\u001b[0m \u001b[32m━━━━━━━━━━━━━━━━━━━━\u001b[0m\u001b[37m\u001b[0m \u001b[1m2s\u001b[0m 8ms/step - accuracy: 0.8194 - loss: 0.4428 - val_accuracy: 0.8575 - val_loss: 0.3652\n",
      "Epoch 3/100\n",
      "\u001b[1m200/200\u001b[0m \u001b[32m━━━━━━━━━━━━━━━━━━━━\u001b[0m\u001b[37m\u001b[0m \u001b[1m2s\u001b[0m 8ms/step - accuracy: 0.8378 - loss: 0.3910 - val_accuracy: 0.8500 - val_loss: 0.3489\n",
      "Epoch 4/100\n",
      "\u001b[1m200/200\u001b[0m \u001b[32m━━━━━━━━━━━━━━━━━━━━\u001b[0m\u001b[37m\u001b[0m \u001b[1m2s\u001b[0m 8ms/step - accuracy: 0.8413 - loss: 0.3810 - val_accuracy: 0.8600 - val_loss: 0.3467\n",
      "Epoch 5/100\n",
      "\u001b[1m200/200\u001b[0m \u001b[32m━━━━━━━━━━━━━━━━━━━━\u001b[0m\u001b[37m\u001b[0m \u001b[1m2s\u001b[0m 8ms/step - accuracy: 0.8493 - loss: 0.3731 - val_accuracy: 0.8587 - val_loss: 0.3364\n",
      "Epoch 6/100\n",
      "\u001b[1m200/200\u001b[0m \u001b[32m━━━━━━━━━━━━━━━━━━━━\u001b[0m\u001b[37m\u001b[0m \u001b[1m2s\u001b[0m 10ms/step - accuracy: 0.8563 - loss: 0.3641 - val_accuracy: 0.8587 - val_loss: 0.3405\n",
      "Epoch 7/100\n",
      "\u001b[1m200/200\u001b[0m \u001b[32m━━━━━━━━━━━━━━━━━━━━\u001b[0m\u001b[37m\u001b[0m \u001b[1m2s\u001b[0m 9ms/step - accuracy: 0.8569 - loss: 0.3613 - val_accuracy: 0.8662 - val_loss: 0.3312\n",
      "Epoch 8/100\n",
      "\u001b[1m200/200\u001b[0m \u001b[32m━━━━━━━━━━━━━━━━━━━━\u001b[0m\u001b[37m\u001b[0m \u001b[1m2s\u001b[0m 9ms/step - accuracy: 0.8590 - loss: 0.3448 - val_accuracy: 0.8637 - val_loss: 0.3326\n",
      "Epoch 9/100\n",
      "\u001b[1m200/200\u001b[0m \u001b[32m━━━━━━━━━━━━━━━━━━━━\u001b[0m\u001b[37m\u001b[0m \u001b[1m2s\u001b[0m 10ms/step - accuracy: 0.8570 - loss: 0.3448 - val_accuracy: 0.8575 - val_loss: 0.3339\n",
      "Epoch 10/100\n",
      "\u001b[1m200/200\u001b[0m \u001b[32m━━━━━━━━━━━━━━━━━━━━\u001b[0m\u001b[37m\u001b[0m \u001b[1m2s\u001b[0m 10ms/step - accuracy: 0.8622 - loss: 0.3439 - val_accuracy: 0.8612 - val_loss: 0.3343\n",
      "Epoch 11/100\n",
      "\u001b[1m200/200\u001b[0m \u001b[32m━━━━━━━━━━━━━━━━━━━━\u001b[0m\u001b[37m\u001b[0m \u001b[1m2s\u001b[0m 11ms/step - accuracy: 0.8622 - loss: 0.3444 - val_accuracy: 0.8625 - val_loss: 0.3380\n",
      "Epoch 12/100\n",
      "\u001b[1m200/200\u001b[0m \u001b[32m━━━━━━━━━━━━━━━━━━━━\u001b[0m\u001b[37m\u001b[0m \u001b[1m2s\u001b[0m 10ms/step - accuracy: 0.8674 - loss: 0.3467 - val_accuracy: 0.8575 - val_loss: 0.3344\n",
      "Epoch 13/100\n",
      "\u001b[1m200/200\u001b[0m \u001b[32m━━━━━━━━━━━━━━━━━━━━\u001b[0m\u001b[37m\u001b[0m \u001b[1m2s\u001b[0m 10ms/step - accuracy: 0.8637 - loss: 0.3396 - val_accuracy: 0.8587 - val_loss: 0.3368\n",
      "Epoch 14/100\n",
      "\u001b[1m200/200\u001b[0m \u001b[32m━━━━━━━━━━━━━━━━━━━━\u001b[0m\u001b[37m\u001b[0m \u001b[1m2s\u001b[0m 10ms/step - accuracy: 0.8618 - loss: 0.3432 - val_accuracy: 0.8687 - val_loss: 0.3349\n",
      "Epoch 15/100\n",
      "\u001b[1m200/200\u001b[0m \u001b[32m━━━━━━━━━━━━━━━━━━━━\u001b[0m\u001b[37m\u001b[0m \u001b[1m2s\u001b[0m 10ms/step - accuracy: 0.8601 - loss: 0.3360 - val_accuracy: 0.8625 - val_loss: 0.3367\n",
      "Epoch 16/100\n",
      "\u001b[1m200/200\u001b[0m \u001b[32m━━━━━━━━━━━━━━━━━━━━\u001b[0m\u001b[37m\u001b[0m \u001b[1m2s\u001b[0m 10ms/step - accuracy: 0.8638 - loss: 0.3323 - val_accuracy: 0.8562 - val_loss: 0.3328\n",
      "Epoch 17/100\n",
      "\u001b[1m200/200\u001b[0m \u001b[32m━━━━━━━━━━━━━━━━━━━━\u001b[0m\u001b[37m\u001b[0m \u001b[1m2s\u001b[0m 10ms/step - accuracy: 0.8644 - loss: 0.3383 - val_accuracy: 0.8562 - val_loss: 0.3342\n",
      "\u001b[1m63/63\u001b[0m \u001b[32m━━━━━━━━━━━━━━━━━━━━\u001b[0m\u001b[37m\u001b[0m \u001b[1m1s\u001b[0m 4ms/step - accuracy: 0.8614 - loss: 0.3372\n",
      "Test Accuracy: 0.859000027179718\n"
     ]
    }
   ],
   "source": [
    "from tensorflow.keras.layers import Dense, Dropout, LeakyReLU\n",
    "with strategy.scope():\n",
    "    # -----------------------------\n",
    "    # Data Loading and Preprocessing\n",
    "    # -----------------------------\n",
    "    df = pd.read_csv('/kaggle/input/churnprediction/Churn_Modelling.csv')\n",
    "    df = df.drop(columns=['RowNumber', 'CustomerId', 'Surname'])\n",
    "    \n",
    "    # One-hot encoding for Geography\n",
    "    df = pd.get_dummies(df, columns=['Geography'], drop_first=True)\n",
    "    \n",
    "    # Label encoding for Gender\n",
    "    le = LabelEncoder()\n",
    "    df['Gender'] = le.fit_transform(df['Gender'])\n",
    "    \n",
    "    # Separate features and target\n",
    "    X = df.drop('Exited', axis=1)\n",
    "    y = df['Exited']\n",
    "    \n",
    "    # Standardize features\n",
    "    scaler = StandardScaler()\n",
    "    X_scaled = scaler.fit_transform(X)\n",
    "    \n",
    "    # Train-Test Split\n",
    "    X_train, X_test, y_train, y_test = train_test_split(X_scaled, y, test_size=0.2, random_state=42)\n",
    "    \n",
    "    # -----------------------------\n",
    "    # Building the Multi-GPU Neural Network Model with LeakyReLU\n",
    "    # -----------------------------\n",
    "    model = Sequential()\n",
    "    \n",
    "    # Input Layer\n",
    "    model.add(Dense(128, input_dim=X_train.shape[1]))\n",
    "    model.add(LeakyReLU(alpha=0.01))  # LeakyReLU activation instead of 'relu'\n",
    "    model.add(Dropout(0.2))\n",
    "    \n",
    "    # Hidden Layer 1\n",
    "    model.add(Dense(64))\n",
    "    model.add(LeakyReLU(alpha=0.01))\n",
    "    model.add(Dropout(0.2))\n",
    "    \n",
    "    # Hidden Layer 2\n",
    "    model.add(Dense(32))\n",
    "    model.add(LeakyReLU(alpha=0.01))\n",
    "    model.add(Dropout(0.2))\n",
    "\n",
    "    # Hidden Layer 3\n",
    "    model.add(Dense(16))\n",
    "    model.add(LeakyReLU(alpha=0.01))\n",
    "    model.add(Dropout(0.2))\n",
    "\n",
    "   \n",
    "    \n",
    "    # Output Layer\n",
    "    model.add(Dense(1, activation='sigmoid'))\n",
    "    \n",
    "    # Compile the model with multi-GPU support\n",
    "    model.compile(optimizer='adamW', loss='binary_crossentropy', metrics=['accuracy'])\n",
    "\n",
    "# -----------------------------\n",
    "# Training the Model\n",
    "# -----------------------------\n",
    "early_stop = EarlyStopping(monitor='val_loss', mode='min', patience=10, restore_best_weights=True)\n",
    "history = model.fit(X_train, y_train, validation_split=0.2, epochs=100, batch_size=32, callbacks=[early_stop])\n",
    "\n",
    "# -----------------------------\n",
    "# Evaluating the Model\n",
    "# -----------------------------\n",
    "loss, accuracy = model.evaluate(X_test, y_test)\n",
    "print('Test Accuracy:', accuracy)"
   ]
  }
 ],
 "metadata": {
  "kaggle": {
   "accelerator": "nvidiaTeslaT4",
   "dataSources": [
    {
     "datasetId": 6914286,
     "sourceId": 11091962,
     "sourceType": "datasetVersion"
    }
   ],
   "dockerImageVersionId": 30919,
   "isGpuEnabled": true,
   "isInternetEnabled": false,
   "language": "python",
   "sourceType": "notebook"
  },
  "kernelspec": {
   "display_name": "Python 3",
   "language": "python",
   "name": "python3"
  },
  "language_info": {
   "codemirror_mode": {
    "name": "ipython",
    "version": 3
   },
   "file_extension": ".py",
   "mimetype": "text/x-python",
   "name": "python",
   "nbconvert_exporter": "python",
   "pygments_lexer": "ipython3",
   "version": "3.10.12"
  },
  "papermill": {
   "default_parameters": {},
   "duration": 65.955831,
   "end_time": "2025-03-21T18:22:30.581992",
   "environment_variables": {},
   "exception": null,
   "input_path": "__notebook__.ipynb",
   "output_path": "__notebook__.ipynb",
   "parameters": {},
   "start_time": "2025-03-21T18:21:24.626161",
   "version": "2.6.0"
  }
 },
 "nbformat": 4,
 "nbformat_minor": 5
}
